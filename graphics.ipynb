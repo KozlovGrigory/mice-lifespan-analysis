{
 "cells": [
  {
   "cell_type": "code",
   "execution_count": null,
   "metadata": {},
   "outputs": [],
   "source": [
    "import pandas as pd\n",
    "import seaborn as sns\n",
    "import matplotlib.pyplot as plt\n",
    "from statannot import add_stat_annotation\n",
    "import numpy as np\n",
    "\n",
    "def cm_to_inch(value):\n",
    "    return value/2.54\n",
    "\n",
    "file_location = ''\n",
    "pic_saves = ''\n",
    "sheet = 1"
   ]
  },
  {
   "cell_type": "code",
   "execution_count": null,
   "metadata": {},
   "outputs": [],
   "source": [
    "df = pd.read_excel(file_location, sheet_name = sheet)\n",
    "df = df.sort_values(by = 'exp', ascending = False)"
   ]
  },
  {
   "cell_type": "markdown",
   "metadata": {},
   "source": [
    "## 1."
   ]
  },
  {
   "cell_type": "code",
   "execution_count": null,
   "metadata": {},
   "outputs": [],
   "source": [
    "name = df.columns[2]\n",
    "\n",
    "a4_dims = (cm_to_inch(13),cm_to_inch(8.66))\n",
    "fig, ax = plt.subplots(figsize = a4_dims)  \n",
    "\n",
    "sw = sns.swarmplot(ax = ax, x = \"Strategy\", y = name, hue = 'Sex', \n",
    "              palette = palette, data = df, size = 4)\n",
    "bp = sns.boxplot(x = \"Strategy\", y = name, data = df, color = 'white', showfliers = False)\n",
    "plt.rc('font', family='Times New Roman')\n",
    "plt.legend(fontsize = 8, loc = (0.73, 0.76))\n",
    "plt.xlabel('Life extension strategies', fontsize = 10, fontname = 'Times New Roman', fontweight='bold')\n",
    "plt.xticks(fontsize = 8, fontname = 'Times New Roman')\n",
    "plt.ylabel(name, fontsize = 10, fontname = 'Times New Roman', fontweight='bold')\n",
    "plt.yticks(fontsize = 8, fontname = 'Times New Roman')\n",
    "fig.patch.set_facecolor('white')\n",
    "plt.savefig('{0}/{1}.png'.format(pic_saves, name), dpi = 300) "
   ]
  },
  {
   "cell_type": "markdown",
   "metadata": {},
   "source": [
    "## 2."
   ]
  },
  {
   "cell_type": "code",
   "execution_count": null,
   "metadata": {},
   "outputs": [],
   "source": [
    "a4_dims = (cm_to_inch(13),cm_to_inch(8.66))\n",
    "fig, ax = plt.subplots(figsize = a4_dims)\n",
    "ax.bar(df['Mouse model'], df['Frequency'], \n",
    "       color = ['#d1d1d1', '#adadad', '#828282', '#5c5c5c', '#2b2b2b'], \n",
    "       tick_label = [str(i) for i in df['Mouse model']],\n",
    "       width = 0.7)\n",
    "plt.xlabel('Mouse models', fontsize = 12, fontname = 'Times New Roman', fontweight='bold')\n",
    "plt.xticks(fontsize = 10, fontname = 'Times New Roman', fontweight = 'normal')\n",
    "plt.ylabel('Frequency', fontsize = 12, fontname = 'Times New Roman', fontweight='bold')\n",
    "plt.yticks(fontsize = 10, fontname = 'Times New Roman', fontweight = 'normal')\n",
    "fig.patch.set_facecolor('white')\n",
    "plt.tight_layout()\n",
    "plt.savefig('{0}/mouse_models2.png'.format(pic_saves), dpi = 300) "
   ]
  },
  {
   "cell_type": "markdown",
   "metadata": {},
   "source": [
    "## 3."
   ]
  },
  {
   "cell_type": "code",
   "execution_count": null,
   "metadata": {},
   "outputs": [],
   "source": [
    "a4_dims = (cm_to_inch(27),cm_to_inch(15))\n",
    "fig, ax = plt.subplots(figsize = a4_dims)\n",
    "ax.bar(df['Feature'], df['Frequency'], \n",
    "       color = sns.color_palette(\"Greys\").as_hex(), \n",
    "       tick_label = [str(i) for i in df['Feature']],\n",
    "       width = 0.7)\n",
    "plt.rc('font', family='Times New Roman')\n",
    "plt.xlabel('Features', fontsize = 14, fontname = 'Times New Roman', fontweight='bold')\n",
    "plt.xticks(fontsize = 12, fontname = 'Times New Roman', rotation = 90)\n",
    "plt.ylabel('Frequency', fontsize = 14, fontname = 'Times New Roman', fontweight='bold')\n",
    "plt.yticks(fontsize = 12, fontname = 'Times New Roman')\n",
    "fig.patch.set_facecolor('white')\n",
    "plt.tight_layout()\n",
    "plt.savefig('{0}/features2.png'.format(pic_saves), dpi = 300) "
   ]
  },
  {
   "cell_type": "markdown",
   "metadata": {},
   "source": [
    "## 4."
   ]
  },
  {
   "cell_type": "code",
   "execution_count": null,
   "metadata": {},
   "outputs": [],
   "source": [
    "a4_dims = (cm_to_inch(13),cm_to_inch(8.66))\n",
    "fig, ax = plt.subplots(figsize = a4_dims)\n",
    "patches, texts, pcts = ax.pie(df['Frequency'], \n",
    "                              labels = df['Strategy'], \n",
    "                              colors = ['#adadad', '#828282', '#5c5c5c', '#2b2b2b'], \n",
    "                              autopct='%1.1f%%',\n",
    "                              wedgeprops={'linewidth': 3.0, 'edgecolor': 'white'},\n",
    "                              textprops={'fontsize': 14})\n",
    "plt.rc('font', family='Times New Roman')\n",
    "plt.setp(pcts, color='white', fontweight='bold')\n",
    "fig.patch.set_facecolor('white')\n",
    "plt.tight_layout()\n",
    "plt.savefig('{0}/strategies2.png'.format(pic_saves), dpi = 300) "
   ]
  },
  {
   "cell_type": "markdown",
   "metadata": {},
   "source": [
    "## 5."
   ]
  },
  {
   "cell_type": "code",
   "execution_count": null,
   "metadata": {},
   "outputs": [],
   "source": [
    "df['Life extension, days'] = df['Maximum lifespan, days'] - df['Control, days']\n",
    "df = df[df['Life extension, days'] > 0]\n",
    "df = df.drop_duplicates(subset=['Strategy'])\n",
    "df = df.sort_values(by = 'Life extension, days', ascending = False)\n",
    "\n",
    "df_20 = df[:20]\n",
    "df_20"
   ]
  },
  {
   "cell_type": "code",
   "execution_count": null,
   "metadata": {},
   "outputs": [],
   "source": [
    "a4_dims = (cm_to_inch(27),cm_to_inch(15))\n",
    "fig, ax = plt.subplots(figsize = a4_dims)\n",
    "ax.bar(df_20['Strategy'], df_20['Maximum lifespan, days'], color = '#828282', label = 'Maximum lifespan, days')\n",
    "ax.bar(df_20['Strategy'], df_20['Life extension, days'], color = '#2b2b2b', label = 'Life extension, days')\n",
    "plt.rc('font', family='Times New Roman')\n",
    "ax.legend(fontsize = 10)\n",
    "plt.xticks(fontsize = 12, fontname = 'Times New Roman', rotation = 90)\n",
    "plt.yticks(fontsize = 12, fontname = 'Times New Roman')\n",
    "fig.patch.set_facecolor('white')\n",
    "plt.tight_layout()\n",
    "plt.savefig('{0}/barplot1.png'.format(pic_saves), dpi = 300) "
   ]
  },
  {
   "cell_type": "code",
   "execution_count": null,
   "metadata": {},
   "outputs": [],
   "source": [
    "df_20 = df_20.sort_values(by = 'Maximum lifespan, days', ascending = False)\n",
    "\n",
    "X = np.arange(0, 40, 2)\n",
    "a4_dims = (cm_to_inch(27),cm_to_inch(20))\n",
    "fig, ax = plt.subplots(figsize = a4_dims)\n",
    "ax.bar(X - 0.35, df_20['Maximum lifespan, days'], width = 0.7, color = '#2b2b2b', label = 'Maximum lifespan, days')\n",
    "ax.bar(X + 0.35, df_20['Control, days'], width = 0.7, color = '#828282', label = 'Control, days')\n",
    "plt.rc('font', family='Times New Roman')\n",
    "ax.legend(fontsize = 10)\n",
    "plt.xticks([r * 2 for r in range(len(df_20))], [k for k in list(df_20['Strategy'])],\n",
    "          fontsize = 12, fontname = 'Times New Roman', rotation = 90)\n",
    "plt.yticks(fontsize = 12, fontname = 'Times New Roman')\n",
    "fig.patch.set_facecolor('white')\n",
    "plt.tight_layout()\n",
    "plt.savefig('{0}/barplot2.png'.format(pic_saves), dpi = 300) "
   ]
  },
  {
   "cell_type": "code",
   "execution_count": null,
   "metadata": {},
   "outputs": [],
   "source": [
    "a4_dims = (cm_to_inch(27),cm_to_inch(20))\n",
    "fig, ax = plt.subplots(figsize = a4_dims)\n",
    "ax.barh(X - 0.35, df_20['Maximum lifespan, days'], 0.7, align = 'center', color = '#2b2b2b', label = 'Maximum lifespan, days')\n",
    "ax.barh(X + 0.35, df_20['Control, days'], 0.7, align = 'center', color = '#828282', label = 'Control, days') \n",
    "plt.rc('font', family='Times New Roman')\n",
    "ax.legend(fontsize = 10)\n",
    "plt.xticks(fontsize = 12, fontname = 'Times New Roman')\n",
    "plt.yticks([r * 2 for r in range(len(df_20))], [k for k in list(df_20['Strategy'])],\n",
    "          fontsize = 12, fontname = 'Times New Roman')\n",
    "\n",
    "for i, v in enumerate(df_20['Maximum lifespan, days']):\n",
    "    ax.text(v + 15, i * 2 - 0.6, str(v), color = '#2b2b2b', fontsize = 9) \n",
    "for i, v in enumerate(df_20['Control, days']):\n",
    "    ax.text(v + 15, i * 2 + 0.25, str(v), color = '#828282', fontsize = 9)\n",
    "fig.patch.set_facecolor('white')\n",
    "plt.tight_layout()\n",
    "plt.savefig('{0}/barplot3.png'.format(pic_saves), dpi = 300) "
   ]
  },
  {
   "cell_type": "markdown",
   "metadata": {},
   "source": [
    "## 6."
   ]
  },
  {
   "cell_type": "code",
   "execution_count": null,
   "metadata": {},
   "outputs": [],
   "source": [
    "X = np.arange(0, 28, 2)\n",
    "a4_dims = (cm_to_inch(27),cm_to_inch(20))\n",
    "fig, ax = plt.subplots(figsize = a4_dims)\n",
    "ax.bar(X - 0.35, df['exp'], width = 0.7, color = '#2b2b2b', label = 'Maximum lifespan, days')\n",
    "ax.bar(X + 0.35, df['control'], width = 0.7, color = '#828282', label = 'Control, days')\n",
    "plt.rc('font', family='Times New Roman')\n",
    "ax.legend(fontsize = 10)\n",
    "plt.xticks([r * 2 for r in range(len(df))], [k for k in list(df['soed'])],\n",
    "          fontsize = 12, fontname = 'Times New Roman', rotation = 90)\n",
    "plt.yticks(fontsize = 12, fontname = 'Times New Roman')\n",
    "    \n",
    "for i, v in enumerate(df['exp']):\n",
    "    ax.text(i * 2 - 0.8, v + 15, str(v), color = '#2b2b2b', fontsize = 9) \n",
    "for i, v in enumerate(df['control']):\n",
    "    ax.text(i * 2 + 0.06, v + 15, str(v), color = '#828282', fontsize = 9)\n",
    "\n",
    "fig.patch.set_facecolor('white')\n",
    "plt.tight_layout()\n",
    "plt.savefig('{0}/barplot_fem2.png'.format(pic_saves), dpi = 300) "
   ]
  }
 ],
 "metadata": {
  "kernelspec": {
   "display_name": "Python 3 (ipykernel)",
   "language": "python",
   "name": "python3"
  },
  "language_info": {
   "codemirror_mode": {
    "name": "ipython",
    "version": 3
   },
   "file_extension": ".py",
   "mimetype": "text/x-python",
   "name": "python",
   "nbconvert_exporter": "python",
   "pygments_lexer": "ipython3",
   "version": "3.9.12"
  }
 },
 "nbformat": 4,
 "nbformat_minor": 4
}
